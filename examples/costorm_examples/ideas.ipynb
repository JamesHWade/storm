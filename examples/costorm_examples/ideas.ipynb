{
 "cells": [
  {
   "cell_type": "code",
   "execution_count": null,
   "metadata": {},
   "outputs": [],
   "source": [
    "# Initialize your Co-STORM system\n",
    "from knowledge_storm.collaborative_storm.engine import CoStormRunner, RunnerArgument, CollaborativeStormLMConfigs, LoggingWrapper\n",
    "from knowledge_storm.encoder import Encoder\n",
    "from dotenv import load_dotenv\n",
    "\n",
    "load_dotenv()\n",
    "\n",
    "# Setup your runner\n",
    "lm_config = CollaborativeStormLMConfigs()\n",
    "args = RunnerArgument(topic=\"Cancer immunotherapy advances\")\n",
    "lm_config.init(lm_type=\"openai\")  # or \"azure\"\n",
    "encoder = Encoder()\n",
    "\n",
    "# Create the runner\n",
    "runner = CoStormRunner(\n",
    "    args=args,\n",
    "    lm_config=lm_config,\n",
    "    encoder=encoder,\n",
    ")"
   ]
  },
  {
   "cell_type": "code",
   "execution_count": null,
   "metadata": {},
   "outputs": [],
   "source": [
    "\n",
    "# Initialize with some knowledge (optional)\n",
    "runner.warm_start()"
   ]
  },
  {
   "cell_type": "code",
   "execution_count": null,
   "metadata": {},
   "outputs": [],
   "source": [
    "runner.conversation_history[7].to_dict()"
   ]
  },
  {
   "cell_type": "code",
   "execution_count": 2,
   "metadata": {},
   "outputs": [],
   "source": [
    "\n",
    "import json\n",
    "# save runner to json\n",
    "# runner_json = runner.to_dict()\n",
    "# with open(\"runner.json\", \"w\") as f:\n",
    "#     json.dump(runner_json, f)\n",
    "\n",
    "# load runner from json\n",
    "with open(\"runner.json\", \"r\") as f:\n",
    "    runner_json = json.load(f)\n",
    "runner = CoStormRunner.from_dict(runner_json)"
   ]
  },
  {
   "cell_type": "code",
   "execution_count": null,
   "metadata": {},
   "outputs": [],
   "source": [
    "\n",
    "# Now use the direct research capabilities:\n",
    "\n",
    "# 1. Generate a research idea\n",
    "idea = runner.generate_research_idea(\n",
    "    context=\"Consider the role of the microbiome in cancer therapy response\"\n",
    ")\n",
    "print(\"RESEARCH IDEA:\")\n",
    "print(idea)\n",
    "print(\"\\n\" + \"-\"*80 + \"\\n\")\n",
    "\n",
    "# 2. Assess the idea\n",
    "assessment = runner.assess_research_idea(idea)\n",
    "print(\"ASSESSMENT:\")\n",
    "print(assessment)\n",
    "print(\"\\n\" + \"-\"*80 + \"\\n\")\n",
    "\n",
    "# 3. Create an experimental plan\n",
    "plan = runner.create_experimental_plan(idea, assessment)\n",
    "print(\"EXPERIMENTAL PLAN:\")\n",
    "print(plan)\n",
    "print(\"\\n\" + \"-\"*80 + \"\\n\")"
   ]
  },
  {
   "cell_type": "code",
   "execution_count": null,
   "metadata": {},
   "outputs": [],
   "source": [
    "runner.add_researcher(role_name=\"Research Scientist\", role_description=\"Specializes in generating novel research ideas and experimental plans\")"
   ]
  },
  {
   "cell_type": "code",
   "execution_count": null,
   "metadata": {},
   "outputs": [],
   "source": [
    "runner.step()"
   ]
  },
  {
   "cell_type": "code",
   "execution_count": null,
   "metadata": {},
   "outputs": [],
   "source": [
    "runner.generate_report()"
   ]
  },
  {
   "cell_type": "code",
   "execution_count": null,
   "metadata": {},
   "outputs": [],
   "source": [
    "\n",
    "# 4. Or run the complete research pipeline at once\n",
    "research_output = runner.research_pipeline(\n",
    "    context=\"Novel applications of mRNA technology beyond vaccines\"\n",
    ")\n",
    "print(\"COMPLETE RESEARCH OUTPUT:\")\n",
    "print(f\"Idea: {research_output['idea'][:100]}...\")\n",
    "print(f\"Assessment: {research_output['assessment'][:100]}...\")\n",
    "print(f\"Plan: {research_output['plan'][:100]}...\")"
   ]
  },
  {
   "cell_type": "code",
   "execution_count": null,
   "metadata": {},
   "outputs": [],
   "source": [
    "\n",
    "# 1. Generate a research idea\n",
    "idea = runner.generate_research_idea(\n",
    "    context=\"Consider the role of the microbiome in cancer therapy response\"\n",
    ")\n",
    "print(\"RESEARCH IDEA:\")\n",
    "print(idea)\n",
    "print(\"\\n\" + \"-\"*80 + \"\\n\")\n",
    "\n",
    "# 2. Assess the idea\n",
    "assessment = runner.assess_research_idea(idea)\n",
    "print(\"ASSESSMENT:\")\n",
    "print(assessment)\n",
    "print(\"\\n\" + \"-\"*80 + \"\\n\")\n",
    "\n",
    "# 3. Create an experimental plan\n",
    "plan = runner.create_experimental_plan(idea, assessment)\n",
    "print(\"EXPERIMENTAL PLAN:\")\n",
    "print(plan)\n",
    "print(\"\\n\" + \"-\"*80 + \"\\n\")\n",
    "\n",
    "# 4. Or run the complete research pipeline at once\n",
    "research_output = runner.research_pipeline(\n",
    "    context=\"Novel applications of mRNA technology beyond vaccines\"\n",
    ")\n",
    "print(\"COMPLETE RESEARCH OUTPUT:\")\n",
    "print(f\"Idea: {research_output['idea'][:100]}...\")\n",
    "print(f\"Assessment: {research_output['assessment'][:100]}...\")\n",
    "print(f\"Plan: {research_output['plan'][:100]}...\")"
   ]
  }
 ],
 "metadata": {
  "kernelspec": {
   "display_name": ".venv",
   "language": "python",
   "name": "python3"
  },
  "language_info": {
   "codemirror_mode": {
    "name": "ipython",
    "version": 3
   },
   "file_extension": ".py",
   "mimetype": "text/x-python",
   "name": "python",
   "nbconvert_exporter": "python",
   "pygments_lexer": "ipython3",
   "version": "3.13.2"
  }
 },
 "nbformat": 4,
 "nbformat_minor": 2
}
